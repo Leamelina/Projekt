{
 "cells": [
  {
   "cell_type": "code",
   "execution_count": 91,
   "metadata": {},
   "outputs": [
    {
     "name": "stdout",
     "output_type": "stream",
     "text": [
      "[[ 0.  0.  0. ...,  0.  0.  0.]\n",
      " [ 0.  0.  0. ...,  0.  0.  0.]\n",
      " [ 0.  0.  0. ...,  0.  0.  0.]\n",
      " ..., \n",
      " [ 0.  0.  0. ...,  0.  0.  0.]\n",
      " [ 0.  0.  0. ...,  0.  0.  0.]\n",
      " [ 0.  0.  0. ...,  0.  0.  0.]]\n"
     ]
    }
   ],
   "source": [
    "from pylab import *\n",
    "#import random\n",
    "p=0.45\n",
    "p_1 = p # Wahrscheinlichkeit der Übertragung an Nachbarn\n",
    "p_2 = p # Wahrscheinlichkeit krank zu bleiben\n",
    "t_N = 100000\n",
    "i_M = 100\n",
    "A = np.zeros((t_N, i_M)) #erhalte nxm-Matrix mit 0-en\n",
    "print (A)"
   ]
  },
  {
   "cell_type": "code",
   "execution_count": 92,
   "metadata": {
    "collapsed": true
   },
   "outputs": [],
   "source": [
    "A[0][50] = 1 #eine beliebige Zahl der 1.Zeile wird 1 -> r0 = 0.01???"
   ]
  },
  {
   "cell_type": "code",
   "execution_count": 93,
   "metadata": {
    "collapsed": true
   },
   "outputs": [],
   "source": [
    "for i in range(t_N-1):\n",
    "    for j in range(i_M):\n",
    "        if A[i,j] == 1:\n",
    "            if np.random.rand() < p_1: # Übertragung an Nachbarn\n",
    "                A[i+1][(j+1)%i_M] = 1\n",
    "            if np.random.rand() < p_2: # krank bleiben\n",
    "                A[i+1][j] = 1\n",
    "            if np.random.rand() < p_1: # Übertragung an Nachbarn\n",
    "                A[i+1][(j-1)%i_M] = 1\n",
    "                \n",
    "            "
   ]
  },
  {
   "cell_type": "code",
   "execution_count": 94,
   "metadata": {
    "collapsed": true
   },
   "outputs": [],
   "source": [
    "%matplotlib inline"
   ]
  },
  {
   "cell_type": "code",
   "execution_count": 95,
   "metadata": {},
   "outputs": [
    {
     "data": {
      "image/png": "[encoded data removed]",
      "text/plain": [
       "<matplotlib.figure.Figure at 0x3c65655390>"
      ]
     },
     "metadata": {},
     "output_type": "display_data"
    }
   ],
   "source": [
    "imshow(A,interpolation='none',aspect=\"auto\", cmap='gray')\n",
    "show()"
   ]
  },
  {
   "cell_type": "code",
   "execution_count": 96,
   "metadata": {},
   "outputs": [
    {
     "data": {
      "text/plain": [
       "(100000, 100)"
      ]
     },
     "execution_count": 96,
     "metadata": {},
     "output_type": "execute_result"
    }
   ],
   "source": [
    "A.shape"
   ]
  },
  {
   "cell_type": "code",
   "execution_count": 97,
   "metadata": {},
   "outputs": [
    {
     "data": {
      "image/png": "[encoded data removed]",
      "text/plain": [
       "<matplotlib.figure.Figure at 0x3c5d2e2e48>"
      ]
     },
     "metadata": {},
     "output_type": "display_data"
    }
   ],
   "source": [
    "plot(sum(A,axis=1)/i_M)\n",
    "show()"
   ]
  },
  {
   "cell_type": "code",
   "execution_count": 98,
   "metadata": {},
   "outputs": [
    {
     "name": "stdout",
     "output_type": "stream",
     "text": [
      "17612\n"
     ]
    }
   ],
   "source": [
    "Tohm = False\n",
    "for y in range(t_N-1): #definiere Tohm als erste Nullzeile, also als Zeitpunkt, wenn die Krankheit verschwindet\n",
    "    anzahl_einsen = 0\n",
    "    for x in range(i_M):\n",
    "        if A[y][x] == 1:\n",
    "            anzahl_einsen = anzahl_einsen + 1\n",
    "        if x == (i_M-1):\n",
    "            if anzahl_einsen == 0:\n",
    "                if Tohm == False:\n",
    "                    Tohm = y \n",
    "                                    \n",
    "\n",
    "    if (y == t_N - 2 and Tohm == False):\n",
    "        Tohm = t_N + 1\n",
    "            \n",
    "print(Tohm)"
   ]
  },
  {
   "cell_type": "code",
   "execution_count": 118,
   "metadata": {},
   "outputs": [
    {
     "name": "stdout",
     "output_type": "stream",
     "text": [
      "1.0\n"
     ]
    }
   ],
   "source": [
    "r_final = sum(A[Tohm-1][:]) #r_final ist die Anzahl der infizierten Personen zum Zeitpunkt Tohm-1 (also zum Zeitpunkt bevor die Infektion verschwindet)\n",
    "print(r_final)#es funktioniert jedoch nur manchmal"
   ]
  },
  {
   "cell_type": "code",
   "execution_count": 99,
   "metadata": {},
   "outputs": [
    {
     "name": "stdout",
     "output_type": "stream",
     "text": [
      "[ 1.  1.  2. ...,  0.  0.  0.]\n"
     ]
    }
   ],
   "source": [
    "r = sum(A, axis = 1) #r definiert als Anzahl der Einsen pro Zeile, bzw. Anzahl der Erkrankten pro Zeitschritt\n",
    "print(r)"
   ]
  },
  {
   "cell_type": "code",
   "execution_count": 100,
   "metadata": {},
   "outputs": [
    {
     "data": {
      "text/plain": [
       "Text(0,0.5,'r')"
      ]
     },
     "execution_count": 100,
     "metadata": {},
     "output_type": "execute_result"
    },
    {
     "data": {
      "image/png": "[encoded data removed]",
      "text/plain": [
       "<matplotlib.figure.Figure at 0x3c65980128>"
      ]
     },
     "metadata": {},
     "output_type": "display_data"
    }
   ],
   "source": [
    "plot(r)#das ist das Diagamm t-r (Anzahl der Erkrankten pro Zeitschritt)\n",
    "xlabel('time')\n",
    "ylabel('r')"
   ]
  },
  {
   "cell_type": "code",
   "execution_count": 101,
   "metadata": {},
   "outputs": [
    {
     "data": {
      "text/plain": [
       "[<matplotlib.lines.Line2D at 0x3c6562eda0>]"
      ]
     },
     "execution_count": 101,
     "metadata": {},
     "output_type": "execute_result"
    },
    {
     "data": {
      "image/png": "[encoded data removed]",
      "text/plain": [
       "<matplotlib.figure.Figure at 0x3c5c9aa908>"
      ]
     },
     "metadata": {},
     "output_type": "display_data"
    }
   ],
   "source": [
    "loglog(r)#plotte r doppelt logarythmisch"
   ]
  },
  {
   "cell_type": "markdown",
   "metadata": {},
   "source": [
    "p_cr ist der Wert wenn de Infetion weder gegen 0 geht, noch immer durchläuft.\n",
    "Wenn p > p_cr, dann geht r gegen einen Wert =! 0 der saturiert.\n",
    "Wenn p < p_cr, dann geht r gegen 0.\n",
    "Bei p_cr soll gelten r(t) ~ t^-delta. \n",
    "Der Wert p_cr müsste bei ungefähr p = 0,45 liegen. Da man bei p = 0,47 eine durchgehende Infektion beobachten kann, die bei einem Wert r saturiert und man bei p = 0,43 eine schnell aussterbende Infektion beobachten kann, bei der r exponentiell gegen Null geht. "
   ]
  },
  {
   "cell_type": "code",
   "execution_count": 86,
   "metadata": {},
   "outputs": [
    {
     "name": "stdout",
     "output_type": "stream",
     "text": [
      "[        -inf -18.30605279 -11.54983337 ...,  -1.10213611  -1.10213516\n",
      "  -1.1021342 ]\n"
     ]
    },
    {
     "name": "stderr",
     "output_type": "stream",
     "text": [
      "C:\\Users\\Lea\\Anaconda3\\lib\\site-packages\\ipykernel_launcher.py:6: RuntimeWarning: divide by zero encountered in true_divide\n",
      "  \n"
     ]
    }
   ],
   "source": [
    "k = list(range(1,100001))#versuche delta herauszufinden um dann t^-delta plotten zu können\n",
    "m = sum(A[:][:Tohm])\n",
    "t = np.array(k) #t als Zeit array definiert\n",
    "#r = t^-d --> log(r) = -d * log(t) --> -(log(r)/log(t)) = d\n",
    "\n",
    "delta = -(log(m)/log(t))\n",
    "print(delta) #es kommen keine korrekten Werte heraus, z.B. -inf"
   ]
  },
  {
   "cell_type": "code",
   "execution_count": 111,
   "metadata": {
    "collapsed": true
   },
   "outputs": [],
   "source": [
    "f = 2^t"
   ]
  },
  {
   "cell_type": "code",
   "execution_count": 113,
   "metadata": {},
   "outputs": [
    {
     "data": {
      "text/plain": [
       "[<matplotlib.lines.Line2D at 0x3c6106cd30>]"
      ]
     },
     "execution_count": 113,
     "metadata": {},
     "output_type": "execute_result"
    },
    {
     "data": {
      "image/png": "[encoded data removed]",
      "text/plain": [
       "<matplotlib.figure.Figure at 0x3c610715f8>"
      ]
     },
     "metadata": {},
     "output_type": "display_data"
    }
   ],
   "source": [
    "loglog(f,r)#kein großer unterschied es nach t[l]=2^l zu plotten oder hab ich das falsch gemacht????"
   ]
  },
  {
   "cell_type": "code",
   "execution_count": 120,
   "metadata": {
    "collapsed": true
   },
   "outputs": [],
   "source": []
  },
  {
   "cell_type": "code",
   "execution_count": null,
   "metadata": {
    "collapsed": true
   },
   "outputs": [],
   "source": []
  }
 ],
 "metadata": {
  "kernelspec": {
   "display_name": "Python 3",
   "language": "python",
   "name": "python3"
  },
  "language_info": {
   "codemirror_mode": {
    "name": "ipython",
    "version": 3
   },
   "file_extension": ".py",
   "mimetype": "text/x-python",
   "name": "python",
   "nbconvert_exporter": "python",
   "pygments_lexer": "ipython3",
   "version": "3.6.3"
  }
 },
 "nbformat": 4,
 "nbformat_minor": 1
}
