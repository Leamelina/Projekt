{
 "cells": [
  {
   "cell_type": "markdown",
   "metadata": {},
   "source": [
    "- Schreiben Sie eine Funktion `r, rfinal, Tohm, Pic = DPerc(N,pleft,p0,pright,Tmax,Tshow=0,r0=1.0)`, die die Infektionsausbreitung in einem 1d-Feld der Laenge `N` ueber eine maximale Zahl `Tmax` von Schritten simuliert. Hierbei sind `pleft`, `p0` und `pright` die Wahrscheinlichkeiten, den linken Nachbarn zu infizieren, selbst infiziert zu bleiben bzw. den rechten Nachbarn zu infizieren. Der Wert `r0` gibt den Anteil der zu Beginn infizierten Zellen an und soll standardmaessig bei `r0=1.0` (alle Zellen) liegen. Egal welchen Wert `r0` hat, es soll immer mindestens eine Zelle infiziert sein.\n",
    "\n",
    "Die Funktion soll ein Feld `r[0:k]` mit dem Anteil der infizierten Zellen zu den Zeitpunkten $t_{l=0\\dots k-1} = 2^l$ < `Tmax` zurueckliefern, den finalen Anteil `rfinal` und die Zeit `Tohm` bei der die Infektion in der Simulation verschwindet. Falls `rfinal>0` soll `Tohm=Tmax+1` angenommen werden.\n",
    "\n",
    "Wenn `Tshow=0` ist, dann soll `Pic=None` zurueckgegeben werden, ansonsten eine Matrix `Pic[0:Tshow,0:N]`, die die Zustaende der Zellen in den ersten `Tshow` Zeitschritten enthaelt."
   ]
  },
  {
   "cell_type": "markdown",
   "metadata": {},
   "source": [
    "Achtung : Es muessen eventuell sehr lange Zeitraeume simuliert werden. Sie muessen aber nicht alle Zustaende speichern. Es genuegt ein Feld `A[0:2,0:N]`. Die Zustaende `A[nxt,:]` ergeben sich dann aus den Zustaenden `A[now,:]` und die indizes `now` und `nxt` muessen einfach in jedem Schritt vertauscht werden. Desweiteren kann die Simulation abgebrochen werden, wenn die Infektion ausgestorben ist."
   ]
  },
  {
   "cell_type": "markdown",
   "metadata": {},
   "source": [
    "- Experimentieren Sie mit verschiedenen Werten von `pleft`, `p0` und `pright` und erzeugen Sie Bilder von `Pic` die das Systemverhalten gut repraesentieren. `imshow(Pic,aspect=...,interpolation='none',cmap='gray')`\n",
    "- Beschreiben Sie Ihre Beobachtungen mit Bezug auf die Bilder"
   ]
  },
  {
   "cell_type": "markdown",
   "metadata": {},
   "source": [
    "Nehmen Sie an `pleft=0`, `p0=pright=p` bzw. `pleft=p0=pright=p`. Die kritische Uebertragungswahrscheinlichkeit $p_{cr}$ ergibt sich im Grenzfall sehr grosser Systeme $N\\to\\infty$ daraus, dass der Anteil der infizierten Zellen fuer $p<p_{cr}$ exponentiell gegen Null geht und fuer $p>p_{cr}$ bei einem von Null verschiedenen Wert saturiert. Am kritischen Punkt gilt $r(t)\\sim t^{-\\delta}$ allerdings nur solange $r\\gg O(1/N)$.\n",
    "\n",
    "- Fuehren Sie Simulationen mit grossen Systemen `N` ueber lange Zeitraeume `Tmax` durch, und plotten Sie `r[l]` doppelt logarithmisch gegen die Zeiten `t[l] = 2**l`. Grenzen Sie die kritische Uebertragungswahrscheinlichkeit $p_{cr}$ so genau ein, wie es Ihnen in vertretbarer Zeit moeglich ist, und bestimmen Sie zusaetzlich den Exponenten $\\delta$ durch lineare Regression im log-log Plot. \n",
    "\n",
    "Je genauer Sie `p` eingrenzen, umso groesser muessen Sie `N` und `Tmax` waehlen. Zeichnen Sie alle Experimente in den log-log Plot, um das unterschiedliche super- und subkritische Systemverhalten zu beobachten.\n",
    "\n",
    "- Plotten Sie fuer eine feines Raster von `p` Werten um $p_{cr}$ herum den mittleren Anteil der infizierten Zellen `rfinal` zum Ende der Simulation.\n",
    "\n",
    "- Bestimmen Sie fuer die Uebertragungswahrscheinlichkeiten $p>p_{cr}$ den mittleren Anteil `rfinal` von infizierten Zellen, bei dem das System saturiert. Plotten Sie diese als Funktion von $|p-p_{cr}|$ doppel logarithmisch, und bestimmen Sie $\\beta$ unter der Annahme, dass  $r(p)\\sim|p-p_{cr}|^\\beta$."
   ]
  },
  {
   "cell_type": "markdown",
   "metadata": {},
   "source": [
    "#### Zusatzaufgaben :\n",
    "\n",
    "- Fuer $p<p_{cr}$ stirbt die Infektion mit grosser Wahrscheinlichkeit schnell aus. Bestimmen Sie fuer ein feines Raster von $p$-Werten um $p_{cr}$ herum den *Median* der Zeiten `Tohm` bis zum Aussterben der Infektion. Fuehren Sie dieses Experiment fuer die Systemgroessen `N=128, 256, 512 und 1024` durch und vergleichen Sie die Kurven.\n",
    "\n",
    "- Fuer `pleft=pright=p` und `p0=q` bestimmen Sie die kritische Linie $q(p)$.\n",
    "\n",
    "- Wiederholen Sie die Experimente auf einem 2d Gitter mit periodischen Randbedingungen"
   ]
  },
  {
   "cell_type": "code",
   "execution_count": null,
   "metadata": {
    "collapsed": true
   },
   "outputs": [],
   "source": []
  }
 ],
 "metadata": {
  "kernelspec": {
   "display_name": "Python 3",
   "language": "python",
   "name": "python3"
  },
  "language_info": {
   "codemirror_mode": {
    "name": "ipython",
    "version": 3
   },
   "file_extension": ".py",
   "mimetype": "text/x-python",
   "name": "python",
   "nbconvert_exporter": "python",
   "pygments_lexer": "ipython3",
   "version": "3.6.3"
  }
 },
 "nbformat": 4,
 "nbformat_minor": 2
}
