{
 "cells": [
  {
   "cell_type": "code",
   "execution_count": 66,
   "metadata": {},
   "outputs": [
    {
     "name": "stdout",
     "output_type": "stream",
     "text": [
      "[[ 0.  0.  0. ...,  0.  0.  0.]\n",
      " [ 0.  0.  0. ...,  0.  0.  0.]\n",
      " [ 0.  0.  0. ...,  0.  0.  0.]\n",
      " ..., \n",
      " [ 0.  0.  0. ...,  0.  0.  0.]\n",
      " [ 0.  0.  0. ...,  0.  0.  0.]\n",
      " [ 0.  0.  0. ...,  0.  0.  0.]]\n"
     ]
    }
   ],
   "source": [
    "from pylab import *\n",
    "#import random\n",
    "p=0.43\n",
    "p_1 = p # Wahrscheinlichkeit der Übertragung an Nachbarn\n",
    "p_2 = p # Wahrscheinlichkeit krank zu bleiben\n",
    "t_N = 100000\n",
    "i_M = 100\n",
    "A = np.zeros((t_N, i_M)) #erhalte nxm-Matrix mit 0-en\n",
    "print (A)"
   ]
  },
  {
   "cell_type": "code",
   "execution_count": 67,
   "metadata": {
    "collapsed": true
   },
   "outputs": [],
   "source": [
    "A[0][50] = 1 #eine beliebige Zahl der 1.Zeile wird 1 -> r0 = 0.01???"
   ]
  },
  {
   "cell_type": "code",
   "execution_count": 68,
   "metadata": {
    "collapsed": true
   },
   "outputs": [],
   "source": [
    "for i in range(t_N-1):\n",
    "    for j in range(i_M):\n",
    "        if A[i,j] == 1:\n",
    "            if np.random.rand() < p_1: # Übertragung an Nachbarn\n",
    "                A[i+1][(j+1)%i_M] = 1\n",
    "            if np.random.rand() < p_2: # krank bleiben\n",
    "                A[i+1][j] = 1\n",
    "            if np.random.rand() < p_1: # Übertragung an Nachbarn\n",
    "                A[i+1][(j-1)%i_M] = 1\n",
    "                \n",
    "            "
   ]
  },
  {
   "cell_type": "code",
   "execution_count": 69,
   "metadata": {
    "collapsed": true
   },
   "outputs": [],
   "source": [
    "%matplotlib inline"
   ]
  },
  {
   "cell_type": "code",
   "execution_count": 70,
   "metadata": {},
   "outputs": [
    {
     "data": {
      "image/png": "[encoded data removed]",
      "text/plain": [
       "<matplotlib.figure.Figure at 0xd0b8432048>"
      ]
     },
     "metadata": {},
     "output_type": "display_data"
    }
   ],
   "source": [
    "imshow(A,interpolation='none',aspect=\"auto\", cmap='gray')\n",
    "show()"
   ]
  },
  {
   "cell_type": "code",
   "execution_count": 71,
   "metadata": {},
   "outputs": [
    {
     "name": "stdout",
     "output_type": "stream",
     "text": [
      "1\n"
     ]
    }
   ],
   "source": [
    "Tohm = False\n",
    "for y in range(t_N-1): #definiere Tohm als erste Nullzeile, also als Zeitpunkt, wenn die Krankheit verschwindet\n",
    "    anzahl_einsen = 0\n",
    "    for x in range(i_M):\n",
    "        if A[y][x] == 1:\n",
    "            anzahl_einsen = anzahl_einsen + 1\n",
    "        if x == (i_M-1):\n",
    "            if anzahl_einsen == 0:\n",
    "                if Tohm == False:\n",
    "                    Tohm = y \n",
    "                                    \n",
    "\n",
    "    if (y == t_N - 2 and Tohm == False):\n",
    "        Tohm = t_N + 1\n",
    "            \n",
    "print(Tohm)"
   ]
  },
  {
   "cell_type": "code",
   "execution_count": 76,
   "metadata": {},
   "outputs": [
    {
     "name": "stdout",
     "output_type": "stream",
     "text": [
      "[ 1.  0.  0. ...,  0.  0.  0.]\n"
     ]
    }
   ],
   "source": [
    "r = sum(A, axis = 1) #r definiert als Anzahl der Einsen pro Zeile, bzw. Anzahl der Erkrankten pro Zeitschritt\n",
    "print(r)"
   ]
  },
  {
   "cell_type": "code",
   "execution_count": 73,
   "metadata": {},
   "outputs": [
    {
     "data": {
      "text/plain": [
       "Text(0,0.5,'r')"
      ]
     },
     "execution_count": 73,
     "metadata": {},
     "output_type": "execute_result"
    },
    {
     "data": {
      "image/png": "[encoded data removed]",
      "text/plain": [
       "<matplotlib.figure.Figure at 0xd0b9e06080>"
      ]
     },
     "metadata": {},
     "output_type": "display_data"
    }
   ],
   "source": [
    "plot(r)#das ist das Diagamm t-r\n",
    "xlabel('time')\n",
    "ylabel('r')"
   ]
  },
  {
   "cell_type": "code",
   "execution_count": 74,
   "metadata": {},
   "outputs": [
    {
     "name": "stderr",
     "output_type": "stream",
     "text": [
      "C:\\Users\\Lea\\Anaconda3\\lib\\site-packages\\matplotlib\\axes\\_base.py:3239: UserWarning: Attempting to set identical bottom==top results\n",
      "in singular transformations; automatically expanding.\n",
      "bottom=1.0, top=1.0\n",
      "  'bottom=%s, top=%s') % (bottom, top))\n"
     ]
    },
    {
     "data": {
      "text/plain": [
       "[<matplotlib.lines.Line2D at 0xd0b9e8d7f0>]"
      ]
     },
     "execution_count": 74,
     "metadata": {},
     "output_type": "execute_result"
    },
    {
     "data": {
      "image/png": "[encoded data removed]",
      "text/plain": [
       "<matplotlib.figure.Figure at 0xd0bf5c00f0>"
      ]
     },
     "metadata": {},
     "output_type": "display_data"
    }
   ],
   "source": [
    "loglog(r)#beim doppelt logarythmisch plotten kommt schwachsinn raus... vielleicht falsches r???"
   ]
  },
  {
   "cell_type": "markdown",
   "metadata": {},
   "source": [
    "Die Infektion verschwindet praktisch sofort, da die Übertragungswahrscheinlichkeit p < p_cr ist. "
   ]
  }
 ],
 "metadata": {
  "kernelspec": {
   "display_name": "Python 3",
   "language": "python",
   "name": "python3"
  },
  "language_info": {
   "codemirror_mode": {
    "name": "ipython",
    "version": 3
   },
   "file_extension": ".py",
   "mimetype": "text/x-python",
   "name": "python",
   "nbconvert_exporter": "python",
   "pygments_lexer": "ipython3",
   "version": "3.6.3"
  }
 },
 "nbformat": 4,
 "nbformat_minor": 2
}
